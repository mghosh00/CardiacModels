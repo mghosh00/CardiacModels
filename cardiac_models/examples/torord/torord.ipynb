{
 "cells": [
  {
   "cell_type": "markdown",
   "id": "9b592d3c-b94d-4002-bd9c-1d7eb16eb4be",
   "metadata": {},
   "source": [
    "# Inferring parameters for the ToR-ORd model"
   ]
  },
  {
   "cell_type": "markdown",
   "id": "109caf01-13cd-4750-a3d8-5378aa465ad0",
   "metadata": {},
   "source": [
    "In this notebook, we use PINTS to create noisy data for a ToR-ORd [$^{[1]}$](#Sources) system and then perform inference on the model\n",
    "to try and retrieve the parameters. This should be compared with results from other notebooks, such as the FitzHugh-Nagumo and Beeler-Reuter\n",
    "notebooks."
   ]
  },
  {
   "cell_type": "markdown",
   "id": "bf9061d8-914a-43f2-9e5b-405d11cc9181",
   "metadata": {},
   "source": [
    "## Creating the ForwardModel"
   ]
  },
  {
   "cell_type": "markdown",
   "id": "1e1105cc-ed4a-4631-a1c9-36f5a92e267a",
   "metadata": {},
   "source": [
    "### Variable descriptions"
   ]
  },
  {
   "cell_type": "markdown",
   "id": "a2553771-9f8e-4f10-ae13-3ea7e480b606",
   "metadata": {},
   "source": [
    "We need to set up the ODE system first. This is a large system and so we will not go through all the equations and varibles,\n",
    "but we will give a description of all the currents and fluxes in the model and the important parameters (to be inferred)."
   ]
  },
  {
   "cell_type": "markdown",
   "id": "5f4520b9-2e44-44b9-9127-3c45652e435d",
   "metadata": {},
   "source": [
    "|variable|description|ions|\n",
    "|---|-------|---|\n",
    "|$V$|membrane potential|all|\n",
    "|$I_{Na}$|fast sodium current|$Na^{+}$|\n",
    "|$I_{NaL}$|late sodium current|$Na^{+}$|\n",
    "|$I_{to}$|transient outward potassium current|$K^{+}$|\n",
    "|$I_{CaL}$|L-type calcium current|$Ca^{2+}$|\n",
    "|$I_{K_r}$|rapid delayed rectifier potassium current|$K^{+}$|\n",
    "|$I_{K_s}$|slow delayed rectifier potassium current|$K^{+}$|\n",
    "|$I_{K_1}$|inward rectifier current|$K^{+}$|\n",
    "|$I_{NaCa}$|sodium/calcium exchanger (NCX)|$Na^{+}$, $Ca^{2+}$|\n",
    "|$I_{NaK}$|sodium/potassium pump|$Na^{+}$, $K^{+}$|\n",
    "|$I_{Kb}$|background potassium current|$K^{+}$|\n",
    "|$I_{Nab}$|background sodium current|$Na^{+}$|\n",
    "|$I_{Cab}$|background calcium current|$Ca^{2+}$|\n",
    "|$I_{pCa}$|calcium pump|$Ca^{2+}$|\n",
    "|$I_{ClCa}$|calcium-sensitive chloride current|$Cl^{-}$|\n",
    "|$I_{Clb}$|background chloride current|$Cl^{-}$|\n",
    "|$J_{rel}$|calcium flux through ryanodine receptor|$Ca^{2+}$|\n",
    "|$J_{up}$|calcium uptake into network sarcoplasmic reticulum via SERCA|$Ca^{2+}$|\n",
    "|$J_{leak}$|calcium leak out of network sarcoplasmic reticulum|$Ca^{2+}$|\n",
    "|$J_{tr}$|calcium NSR to JSR calcium translocation|$Ca^{2+}$|\n",
    "|$J_{diff,Na}$|sodium diffusion flux between myoplasm and subspace|$Na^{+}$|\n",
    "|$J_{diff,K}$|potassium diffusion flux between myoplasm and subspace|$K^{+}$|\n",
    "|$J_{diff}$|calcium diffusion flux between myoplasm and subspace|$Ca^{2+}$|\n",
    "|CMDN|calmodulin buffer|$Ca^{2+}$|\n",
    "|TRPN|troponin buffer|$Ca^{2+}$|\n",
    "|CSQN|calsequestrin buffer|$Ca^{2+}$|\n",
    "|BSR|anionic sarcoplasmic reticulum binding sites for calcium|$Ca^{2+}$|\n",
    "|BSL|anionic sarcolemmal binding sites for calcium|$Ca^{2+}$|\n",
    "|CaMKII|calmodulin-dependent protein kinase II|$Ca^{2+}$|"
   ]
  },
  {
   "cell_type": "markdown",
   "id": "d6a0dc20-1d57-4e93-9b71-fa8aca900116",
   "metadata": {},
   "source": [
    "All of the above currents have corresponding conductances, and the fluxes have corresponding multipliers. The conductances we will\n",
    "be most interested in for the purpose of inference are listed in the table below."
   ]
  },
  {
   "cell_type": "markdown",
   "id": "f4fc942b-c071-495f-bfc5-7e07abd9fba1",
   "metadata": {},
   "source": [
    "|conductance|ToR-ORd value [$^{[1]}$](#Sources)|ion|reasoning for inference|\n",
    "|---|---|---|-------|\n",
    "|$G_{Na}$|$11.7802$|$Na^{+}$|Multiple changes were made: the Grandi [$^{[2]}$](#Sources) model was used with ORd [$^{[3]}$](#Sources) CaMKII phosphorylation.|\n",
    "|$P_{Cab}$|$8.3757 \\times 10^{-5}$|$Ca^{2+}$|The L-type calcium current had the largest revision of them all compared to the ORd model.|\n",
    "|$G_{K_r}$|$0.0321$|$K^{+}$|This was changed to have a Markovian [$^{[4]}$](#Sources) formulation, as originally parameter inference could not fit the action potential.|\n",
    "|$G_{ClCa}$|$0.2843$|$Cl^{-}$|This current was added for the purpose of fitting to the shape of the action potential.|\n",
    "|$G_{Clb}$|$0.00198$|$Cl^{-}$|This current was added for the purpose of fitting to the shape of the action potential.|"
   ]
  },
  {
   "cell_type": "markdown",
   "id": "93a2abdd-0dfa-4d71-8a57-b17bec677ac3",
   "metadata": {},
   "source": [
    "We will not go into any major detail with the equations, but the main membrane potential ODE is a sum of all the above\n",
    "currents added to a stimulating current, $I_{stim}$ which provides the action potential shape. We also note here that the\n",
    "ToR-ORd model has $43$ time dependent variables forming a system of $43$ ordinary differential equations."
   ]
  },
  {
   "cell_type": "markdown",
   "id": "955eea33-118f-40c6-a049-a3a1140b4b1f",
   "metadata": {},
   "source": [
    "|variable group|list of variables|ions|\n",
    "|---|---|---|\n",
    "|Membrane potential|$V$|all|\n",
    "|Ion compartment concentrations|$[Na]_{i}, [Na]_{ss}, [K]_{i}, [K]_{ss}, [Ca]_{i}, [Ca]_{ss}, [Ca]_{nsr}, [Ca]_{jsr}$|$Na^{+}, K^{+}, Ca^{2+}$|\n",
    "|$I_{Na}$ gating variables|$m, h_{p}, h, j, j_{p}$|$Na^{+}$|\n",
    "|$I_{NaL}$ gating variables|$m_L, h_L, h_{Lp}$|$Na^{+}$|\n",
    "|$I_{to}$ gating variables|$a, i_{F}, i_{S}, a_{p}, i_{Fp}, i_{Sp}$|$K^{+}$|\n",
    "|$I_{CaL}$ gating variables|$d, f_{f}, f_{s}, f_{caf}, f_{cas}, j_{ca}, n_{ca}, n_{cai}, f_{fp}, f_{cafp}$|$K^{+}$|\n",
    "|$I_{K_r}$ gating variables|$C_{0}, C_{1}, C_{2}, O, I$|$K^{+}$|\n",
    "|$I_{K_s}$ gating variables|$x_{s1}, x_{s2}$|$K^{+}$|\n",
    "|$J_{rel}$|$J_{relp}, J_{relnp}$|$Ca^{2+}$|\n",
    "|CaMKII buffer|$CaMK_{t}$|$Ca^{2+}$|"
   ]
  },
  {
   "cell_type": "markdown",
   "id": "f5c764a2-de95-4ba0-9159-5c957c90e3ee",
   "metadata": {},
   "source": [
    "### Initial conditions"
   ]
  },
  {
   "cell_type": "markdown",
   "id": "0dfd7668-aa18-4495-9d6b-599c51ae923a",
   "metadata": {},
   "source": [
    "We will use the following initial conditions, representing an endocardial cell."
   ]
  },
  {
   "cell_type": "code",
   "execution_count": 1,
   "id": "3306b491-b0d0-4aa7-bca5-23f433695e51",
   "metadata": {},
   "outputs": [],
   "source": [
    "initial_conditions = [-88.8691566357934,12.0996647655188,12.1000028563765,142.412524737626,142.412481425842,7.45541572746214e-05,\n",
    "                      6.50418928341426e-05,1.53037019085812,1.52803094224238,0.000787657400526199,0.674096901201792,0.830658198588696,\n",
    "                      0.830466744399495,0.830093612199637,0.000159670117055769,0.528261721740178,0.288775833197764,0.000944249645410894,\n",
    "                      0.999616956857814,0.593680589620082,0.000481107253796778,0.999616964658062,0.654092074678260,8.86091322819384e-29,\n",
    "                      0.999999992783113,0.938965241412012,0.999999992783179,0.999900458262832,0.999977476316330,0.000492094765239740,\n",
    "                      0.000833711885764158,0.999999992566681,0.999999992766279,0.247156543918935,0.000175017075236424,3.90843796133124e-24,\n",
    "                      0.0110752904836162,0.998073652444028,0.000844745297078649,0.000698171876592920,0.000370404872169913,1.30239063420973e-05,\n",
    "                      -1.88428892080206e-22]"
   ]
  },
  {
   "cell_type": "code",
   "execution_count": 2,
   "id": "ce5d4f73-7a2c-4722-a5af-5a7a1fa2e7ee",
   "metadata": {},
   "outputs": [],
   "source": [
    "import pints\n",
    "import numpy as np\n",
    "import scipy.integrate as si\n",
    "import matplotlib.pyplot as plt"
   ]
  },
  {
   "cell_type": "markdown",
   "id": "253a3781-26d7-414e-8dbd-fa504d06f6db",
   "metadata": {},
   "source": [
    "### PINTS implementation of the model"
   ]
  },
  {
   "cell_type": "markdown",
   "id": "9aded0a0-e248-4e8b-870b-29de155d7ad3",
   "metadata": {},
   "source": [
    "In addition to implementing the system, we give the option in the class to specify fixed parameters, if we wish to \n",
    "reduce the dimensions of the parameter space. Additionally, as we realistically would only be able to measure the membrane potential,\n",
    "$V$, and the calcium concentration, $c$, we will use these as the only outputs of the system."
   ]
  },
  {
   "cell_type": "markdown",
   "id": "70bce091-89a1-4e4a-882b-966291b87d6a",
   "metadata": {},
   "source": [
    "The system of equations from the model have been adapted from the original MATLAB code from the ToR-ORd github repository [$^{[5]}$](#Sources)."
   ]
  },
  {
   "cell_type": "code",
   "execution_count": null,
   "id": "e6a7a933-6620-4116-abef-8cd87e529b04",
   "metadata": {},
   "outputs": [],
   "source": [
    "class ToRORdModel(pints.ForwardModel):\n",
    "\n",
    "    def __init__(self, initial_conditions, stimulating_current, fixed_params=None, outputs=[\"V\", \"c\"],\n",
    "                 rtol=10**(-3), atol=10**(-6)):\n",
    "        \"\"\"Initialises the forward model with certain fixed parameters passed to the method\n",
    "        as key-value pairs.\n",
    "        \"\"\"\n",
    "        super(ToRORdModel, self).__init__()\n",
    "        assert len(initial_conditions) == 43\n",
    "        self._initial_conditions = initial_conditions\n",
    "\n",
    "        assert len(stimulating_current) == 2\n",
    "        self._stim_duration, self._stim_amplitude = tuple(stimulating_current)\n",
    "        self._param_names = [\"G_Na\", \"P_Cab\", \"G_Kr\", \"G_ClCa\", \"G_Clb\"]\n",
    "        self._variable_names = [\"V\", \"Na_i\", \"Na_ss\", \"K_i\", \"K_ss\", \"Ca_i\", \"Ca_ss\", \"Ca_nsr\", \"Ca_jsr\",\n",
    "                                \"m\", \"hp\", \"h\", \"j\", \"jp\",\n",
    "                                \"mL\", \"hL\", \"hLp\",\n",
    "                                \"a\", \"iF\", \"iS\", \"ap\", \"iFp\", \"iSp\",\n",
    "                                \"d\", \"ff\", \"fs\", \"fcaf\", \"fcas\", \"jca\", \"nca\", \"nca_i\", \"ffp\", \"fcafp\",\n",
    "                                \"xs1\", \"xs2\",\n",
    "                                \"Jrel_np\", \"CaMKt\",\n",
    "                                \"ikr_c0\", \"ikr_c1\", \"ikr_c2\", \"ikr_o\", \"ikr_i\",\n",
    "                                \"Jrel_p\"]\n",
    "        self._fixed_params = {}\n",
    "        if fixed_params is not None:\n",
    "            for k in fixed_params.keys():\n",
    "                if k in self._param_names:\n",
    "                    self._fixed_params[k] = fixed_params[k]\n",
    "\n",
    "        assert 1 <= len(outputs) <= 43\n",
    "        assert set(outputs).issubset(set(self._variable_names))\n",
    "        self._outputs = outputs\n",
    "        self._rtol = rtol\n",
    "        self._atol = atol\n",
    "        # If we wish to specific current or flux multipliers, we do so in the dict below (e.g. for blocking channels)\n",
    "        self.multipliers = {\"I_CaL\": 1, \"I_Na\": 1, \"I_to\": 1, \"I_NaL\": 1, \"I_Kr\": 1, \"I_Ks\": 1, \"I_K1\": 1, \"I_Kb\": 1,\n",
    "                             \"I_NaCa\": 1, \"I_NaK\": 1, \"I_Nab\": 1, \"I_Cab\": 1, \"I_pCa\": 1, \"I_CaCl\": 1, \"I_Clb\": 1,\n",
    "                             \"J_rel\": 1, \"J_up\": 1}\n",
    "        # If we wish to change the extracellular concentrations or subspace fractions, we do so here\n",
    "        self.concs_and_fractions = {\"Na_o\": 140.0, \"Ca_o\": 1.8, \"K_o\": 5.0, \"ICaL_fractionSS\": 0.8, \"INaCa_fractionSS\": 0.35}\n",
    "\n",
    "    def get_param_names(self):\n",
    "        \"\"\"Returns the parameter names.\n",
    "        \"\"\"\n",
    "        return self._param_names\n",
    "\n",
    "    def get_unfixed_param_names(self):\n",
    "        \"\"\"Returns the unfixed parameters\n",
    "        \"\"\"\n",
    "        output_list = self._param_names.copy()\n",
    "        for fixed_param in self._fixed_params.keys():\n",
    "            output_list.remove(fixed_param)\n",
    "        return output_list\n",
    "\n",
    "    def n_outputs(self):\n",
    "        \"\"\"Returns number of model outputs, default to just V and c\n",
    "        \"\"\"\n",
    "        return len(self._outputs)\n",
    "\n",
    "    def n_parameters(self):\n",
    "        \"\"\"Returns number of parameters to be inferred, i.e. all non-fixed parameters.\n",
    "        \"\"\"\n",
    "        return len(self._param_names) - len(self._fixed_params)\n",
    "\n",
    "    def n_fixed_parameters(self):\n",
    "        \"\"\"Returns number of parameters we fix.\n",
    "        \"\"\"\n",
    "        return len(self._fixed_params)\n",
    "\n",
    "    def simulate(self, parameters, times):\n",
    "        \"\"\"This inherits from pints.ForwardModel, performs one forward simulation of the model.\n",
    "        The list `parameters` contains only the parameters we are inferring.\n",
    "        \"\"\"\n",
    "        G_Na, P_Cab, G_Kr, G_ClCa, G_Clb = self._get_all_params(parameters)\n",
    "        t_span = [times[0], times[len(times) - 1]]\n",
    "        y0 = self._initial_conditions\n",
    "        sol = si.solve_ivp(fun=self._rhs, t_span=t_span, y0=y0, \n",
    "                           t_eval=times, args=(G_Na, P_Cab, G_Kr, G_ClCa, G_Clb,\n",
    "                                               self._stim_duration, self._stim_amplitude, \n",
    "                                               self.multipliers, self.concs_and_fractions),\n",
    "                           rtol=self._rtol, atol=self._atol)\n",
    "\n",
    "        # Now we find which outputs we wish to use\n",
    "        output_indices = [self._variable_names.index(variable) for variable in self._outputs]\n",
    "        return np.array([sol.y[index, :] for index in output_indices]).transpose()\n",
    "\n",
    "    def _get_all_params(self, parameters):\n",
    "        \"\"\"We need a list of 5 parameters, so we check to see which parameters are fixed, and which are not.\n",
    "        We increment j each time a non-fixed parameter is reached.\n",
    "        \"\"\"\n",
    "        all_parameters = []\n",
    "        j = 0\n",
    "        for param in self._param_names:\n",
    "            if param in self._fixed_params.keys():\n",
    "                all_parameters.append(self._fixed_params[param])\n",
    "            else:\n",
    "                all_parameters.append(parameters[j])\n",
    "                j += 1\n",
    "        return tuple(all_parameters)\n",
    "\n",
    "    @staticmethod\n",
    "    def _rhs(t, y, G_Na, P_Cab, G_Kr, G_ClCa, G_Clb, stim_duration, stim_amplitude, multipliers, concs_and_fractions):\n",
    "        \"\"\"The right hand side function of the ToR-ORd system. This is in a separate file as it is \n",
    "        a very long system of equations.\n",
    "        \"\"\"\n",
    "        torord = ModelTorord(t, y, G_Na, P_Cab, G_Kr, G_ClCa, G_Clb, stim_duration, stim_amplitude, multipliers, concs_and_fractions)\n",
    "        return torord.simulate()\n",
    "        # Variables\n",
    "        V, m, h, j, d, f, x, c = tuple(list(y))\n",
    "\n",
    "        # Currents\n",
    "        I_Na = (g_Na * (m**3) * h * j + g_NaC) * (V - V_Na)\n",
    "        I_K = g_K1 * (exp(0.04 * (V - V_K1)) - 1) / (exp(0.08 * (V - V_K2)) + exp(0.04 * (V - V_K2))) + g_K2 * (V - V_K3) / (1 - exp(-0.04 * (V - V_K3)))\n",
    "        I_x = g_x * x * (exp(0.04 * (V - V_x1)) - 1) / exp(0.04 * (V - V_x2))\n",
    "        I_Ca = g_Ca * d * f * (V - V_Ca + 13.0287 * (log(c) - 7 * log(10)))\n",
    "\n",
    "        # Stimulation parameters\n",
    "        if (t - stim_start) % stim_period <= stim_duration:\n",
    "            I_stim = stim_amplitude\n",
    "        else:\n",
    "            I_stim = 0\n",
    "\n",
    "        # Membrane potential ODE\n",
    "        V_dot = - (I_Na + I_K + I_x + I_Ca) + I_stim\n",
    "\n",
    "        # Gating variable ODEs\n",
    "        m_dot = (V + 47) / (1 - exp(-0.1 * (V + 47))) * (1 - m) - 40 * exp(-0.056 * (V + 72)) * m\n",
    "        h_dot = 0.126 * exp(-0.25 * (V + 77)) * (1 - h) - 1.7 / (1 + exp(-0.082 * (V + 22.5))) * h\n",
    "        j_dot = 0.055 * exp(-0.25 * (V + 78)) / (1 + exp(-0.2 * (V + 78))) * (1 - j) - 0.3 / (1 + exp(-0.1 * (V + 32))) * j\n",
    "        d_dot = 0.095 * exp(-0.01 * (V + -5)) / (exp(-0.072 * (V + -5)) + 1) * (1 - d) - 0.07 * exp(-0.017 * (V + 44)) / (exp(0.05 * (V + 44)) + 1) * d\n",
    "        f_dot = 0.012 * exp(-0.008 * (V + 28)) / (exp(0.15 * (V + 28)) + 1) * (1 - f) - 0.0065 * exp(-0.02 * (V + 30)) / (exp(-0.2 * (V + 30)) + 1) * f\n",
    "        x_dot = 0.0005 * exp(0.083 * (V + 50)) / (exp(0.057 * (V + 50)) + 1) * (1 - x) - 0.0013 * exp(-0.06 * (V + 20)) / (exp(-0.04 * (V + 20)) + 1) * x\n",
    "\n",
    "        # Calcium concentration ODE\n",
    "        c_dot = 0.07 * (1 - c) - I_Ca\n",
    "        return np.array([V_dot, m_dot, h_dot, j_dot, d_dot, f_dot, x_dot, c_dot])"
   ]
  },
  {
   "cell_type": "markdown",
   "id": "ff95c047-5983-47bf-80cc-68934f2c0b52",
   "metadata": {},
   "source": [
    "## Sources"
   ]
  },
  {
   "cell_type": "markdown",
   "id": "5dd8d092-b26e-4553-9fcd-b2f6648a30af",
   "metadata": {},
   "source": [
    "$^{[1]}$ J. Tomek *et al.*, Development, calibration, and validation of a novel human ventricular myocyte model in health, disease, and drug block, eLife **8** (2019), e48890, https://doi.org/10.7554/eLife.48890.\n",
    "\n",
    "$^{[2]}$ E. Grandi *et al.*, A Novel Computational Model of the Human Ventricular Action Potential and Ca Transient, J. Mol. Cell Cardiol. **48** (2010), pp. 112, https://pubmed.ncbi.nlm.nih.gov/19835882/.\n",
    "\n",
    "$^{[3]}$ T. O’Hara *et al.*, Simulation of the Undiseased Human Cardiac Ventricular Action Potential: Model Formulation and Experimental \n",
    "Validation, PLoS Comput. Biol.** **7 (2011), e100206, https://doi.org/10.1371/journal.pcbi.10020611.\n",
    "\n",
    "$^{[4]}$ Y. Lu *et al.*, Effects of premature stimulation on HERG K+ channels **537** (2001), pp. 843-851, https://pubmed.ncbi.nlm.nih.gov/11744759/.\n",
    "\n",
    "$^{[5]}$ J. Tomek, Repository for the cardiac model ToR-ORd, Github, 4ffab13, https://github.com/jtmff/torord. Date first accessed: 2024-04-22. "
   ]
  }
 ],
 "metadata": {
  "kernelspec": {
   "display_name": "Python 3 (ipykernel)",
   "language": "python",
   "name": "python3"
  },
  "language_info": {
   "codemirror_mode": {
    "name": "ipython",
    "version": 3
   },
   "file_extension": ".py",
   "mimetype": "text/x-python",
   "name": "python",
   "nbconvert_exporter": "python",
   "pygments_lexer": "ipython3",
   "version": "3.12.0"
  }
 },
 "nbformat": 4,
 "nbformat_minor": 5
}
